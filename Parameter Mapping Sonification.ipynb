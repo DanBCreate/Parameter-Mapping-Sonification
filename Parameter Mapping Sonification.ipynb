{
 "cells": [
  {
   "cell_type": "markdown",
   "id": "b94ce7ec",
   "metadata": {},
   "source": [
    "# Importing Neccesary Libraries to Perform CSV Data Manipulation"
   ]
  },
  {
   "cell_type": "code",
   "execution_count": 1,
   "id": "102eb8a1",
   "metadata": {},
   "outputs": [],
   "source": [
    "import librosa\n",
    "import librosa.display\n",
    "import pandas as pd\n",
    "import numpy as np\n",
    "import math\n",
    "import sklearn\n",
    "import matplotlib.pyplot as plt\n",
    "import IPython.display as ipd\n",
    "%matplotlib inline"
   ]
  },
  {
   "cell_type": "markdown",
   "id": "721801b1",
   "metadata": {},
   "source": [
    "# Load Data File for Gamestop Stocks & Extract the Desired Data:"
   ]
  },
  {
   "cell_type": "code",
   "execution_count": 2,
   "id": "11e6d44f",
   "metadata": {},
   "outputs": [
    {
     "data": {
      "text/html": [
       "<div>\n",
       "<style scoped>\n",
       "    .dataframe tbody tr th:only-of-type {\n",
       "        vertical-align: middle;\n",
       "    }\n",
       "\n",
       "    .dataframe tbody tr th {\n",
       "        vertical-align: top;\n",
       "    }\n",
       "\n",
       "    .dataframe thead th {\n",
       "        text-align: right;\n",
       "    }\n",
       "</style>\n",
       "<table border=\"1\" class=\"dataframe\">\n",
       "  <thead>\n",
       "    <tr style=\"text-align: right;\">\n",
       "      <th></th>\n",
       "      <th>date</th>\n",
       "      <th>open_price</th>\n",
       "      <th>high_price</th>\n",
       "      <th>low_price</th>\n",
       "      <th>close_price</th>\n",
       "      <th>volume</th>\n",
       "      <th>adjclose_price</th>\n",
       "    </tr>\n",
       "  </thead>\n",
       "  <tbody>\n",
       "    <tr>\n",
       "      <th>0</th>\n",
       "      <td>2021-01-28</td>\n",
       "      <td>265.000000</td>\n",
       "      <td>483.000000</td>\n",
       "      <td>112.250000</td>\n",
       "      <td>193.600006</td>\n",
       "      <td>58815800.0</td>\n",
       "      <td>193.600006</td>\n",
       "    </tr>\n",
       "    <tr>\n",
       "      <th>1</th>\n",
       "      <td>2021-01-27</td>\n",
       "      <td>354.829987</td>\n",
       "      <td>380.000000</td>\n",
       "      <td>249.000000</td>\n",
       "      <td>347.510010</td>\n",
       "      <td>93396700.0</td>\n",
       "      <td>347.510010</td>\n",
       "    </tr>\n",
       "    <tr>\n",
       "      <th>2</th>\n",
       "      <td>2021-01-26</td>\n",
       "      <td>88.559998</td>\n",
       "      <td>150.000000</td>\n",
       "      <td>80.199997</td>\n",
       "      <td>147.979996</td>\n",
       "      <td>178588000.0</td>\n",
       "      <td>147.979996</td>\n",
       "    </tr>\n",
       "    <tr>\n",
       "      <th>3</th>\n",
       "      <td>2021-01-25</td>\n",
       "      <td>96.730003</td>\n",
       "      <td>159.179993</td>\n",
       "      <td>61.130001</td>\n",
       "      <td>76.790001</td>\n",
       "      <td>177874000.0</td>\n",
       "      <td>76.790001</td>\n",
       "    </tr>\n",
       "    <tr>\n",
       "      <th>4</th>\n",
       "      <td>2021-01-22</td>\n",
       "      <td>42.590000</td>\n",
       "      <td>76.760002</td>\n",
       "      <td>42.320000</td>\n",
       "      <td>65.010002</td>\n",
       "      <td>196784300.0</td>\n",
       "      <td>65.010002</td>\n",
       "    </tr>\n",
       "  </tbody>\n",
       "</table>\n",
       "</div>"
      ],
      "text/plain": [
       "         date  open_price  high_price   low_price  close_price       volume  \\\n",
       "0  2021-01-28  265.000000  483.000000  112.250000   193.600006   58815800.0   \n",
       "1  2021-01-27  354.829987  380.000000  249.000000   347.510010   93396700.0   \n",
       "2  2021-01-26   88.559998  150.000000   80.199997   147.979996  178588000.0   \n",
       "3  2021-01-25   96.730003  159.179993   61.130001    76.790001  177874000.0   \n",
       "4  2021-01-22   42.590000   76.760002   42.320000    65.010002  196784300.0   \n",
       "\n",
       "   adjclose_price  \n",
       "0      193.600006  \n",
       "1      347.510010  \n",
       "2      147.979996  \n",
       "3       76.790001  \n",
       "4       65.010002  "
      ]
     },
     "execution_count": 2,
     "metadata": {},
     "output_type": "execute_result"
    }
   ],
   "source": [
    "dataGME = pd.read_csv('DATA/GME.csv')\n",
    "dataGME.head()"
   ]
  },
  {
   "cell_type": "code",
   "execution_count": 3,
   "id": "69acffd2",
   "metadata": {},
   "outputs": [],
   "source": [
    "# Dataset Acquired From:\n",
    "#\n",
    "# https://www.kaggle.com/datasets/hananxx/gamestop-historical-stock-prices\n",
    "\n",
    "# The Opening price of the stock\n",
    "openPrice = dataGME.iloc[:, 1]\n",
    "\n",
    "# The High price of the day\n",
    "highPrice = dataGME.iloc[:, 2]\n",
    "\n",
    "# The low price of the day\n",
    "lowPrice = dataGME.iloc[:, 3]\n",
    "\n",
    "# The High Price - The Low Price\n",
    "volatilityPrice = highPrice - lowPrice\n",
    "\n",
    "# The Closing price of the day\n",
    "Price = dataGME.iloc[:, 4]\n",
    "\n",
    "# The amount of stocks traded during that day\n",
    "Volumes = dataGME.iloc[:, 5]"
   ]
  },
  {
   "cell_type": "markdown",
   "id": "98510b90",
   "metadata": {},
   "source": [
    "# Load Data File for AMC Stocks & Extract the Desired Data:"
   ]
  },
  {
   "cell_type": "code",
   "execution_count": 4,
   "id": "12fa399d",
   "metadata": {},
   "outputs": [
    {
     "data": {
      "text/html": [
       "<div>\n",
       "<style scoped>\n",
       "    .dataframe tbody tr th:only-of-type {\n",
       "        vertical-align: middle;\n",
       "    }\n",
       "\n",
       "    .dataframe tbody tr th {\n",
       "        vertical-align: top;\n",
       "    }\n",
       "\n",
       "    .dataframe thead th {\n",
       "        text-align: right;\n",
       "    }\n",
       "</style>\n",
       "<table border=\"1\" class=\"dataframe\">\n",
       "  <thead>\n",
       "    <tr style=\"text-align: right;\">\n",
       "      <th></th>\n",
       "      <th>Date</th>\n",
       "      <th>Open</th>\n",
       "      <th>High</th>\n",
       "      <th>Low</th>\n",
       "      <th>Close</th>\n",
       "      <th>Adj Close</th>\n",
       "      <th>Volume</th>\n",
       "    </tr>\n",
       "  </thead>\n",
       "  <tbody>\n",
       "    <tr>\n",
       "      <th>0</th>\n",
       "      <td>2013-12-18</td>\n",
       "      <td>19.180000</td>\n",
       "      <td>19.790001</td>\n",
       "      <td>18.900000</td>\n",
       "      <td>18.900000</td>\n",
       "      <td>13.593410</td>\n",
       "      <td>5457200</td>\n",
       "    </tr>\n",
       "    <tr>\n",
       "      <th>1</th>\n",
       "      <td>2013-12-19</td>\n",
       "      <td>18.900000</td>\n",
       "      <td>19.490000</td>\n",
       "      <td>18.809999</td>\n",
       "      <td>19.490000</td>\n",
       "      <td>14.017754</td>\n",
       "      <td>1605400</td>\n",
       "    </tr>\n",
       "    <tr>\n",
       "      <th>2</th>\n",
       "      <td>2013-12-20</td>\n",
       "      <td>19.650000</td>\n",
       "      <td>19.770000</td>\n",
       "      <td>19.400000</td>\n",
       "      <td>19.680000</td>\n",
       "      <td>14.154409</td>\n",
       "      <td>737100</td>\n",
       "    </tr>\n",
       "    <tr>\n",
       "      <th>3</th>\n",
       "      <td>2013-12-23</td>\n",
       "      <td>19.790001</td>\n",
       "      <td>19.990000</td>\n",
       "      <td>19.500000</td>\n",
       "      <td>19.740000</td>\n",
       "      <td>14.197562</td>\n",
       "      <td>698100</td>\n",
       "    </tr>\n",
       "    <tr>\n",
       "      <th>4</th>\n",
       "      <td>2013-12-24</td>\n",
       "      <td>19.740000</td>\n",
       "      <td>19.820000</td>\n",
       "      <td>19.500000</td>\n",
       "      <td>19.530001</td>\n",
       "      <td>14.046528</td>\n",
       "      <td>213700</td>\n",
       "    </tr>\n",
       "  </tbody>\n",
       "</table>\n",
       "</div>"
      ],
      "text/plain": [
       "         Date       Open       High        Low      Close  Adj Close   Volume\n",
       "0  2013-12-18  19.180000  19.790001  18.900000  18.900000  13.593410  5457200\n",
       "1  2013-12-19  18.900000  19.490000  18.809999  19.490000  14.017754  1605400\n",
       "2  2013-12-20  19.650000  19.770000  19.400000  19.680000  14.154409   737100\n",
       "3  2013-12-23  19.790001  19.990000  19.500000  19.740000  14.197562   698100\n",
       "4  2013-12-24  19.740000  19.820000  19.500000  19.530001  14.046528   213700"
      ]
     },
     "execution_count": 4,
     "metadata": {},
     "output_type": "execute_result"
    }
   ],
   "source": [
    "dataAMC = pd.read_csv('DATA/AMC.csv')\n",
    "dataAMC.head()"
   ]
  },
  {
   "cell_type": "code",
   "execution_count": 5,
   "id": "d2b8084c",
   "metadata": {},
   "outputs": [],
   "source": [
    "# Dataset Acquired From:\n",
    "#\n",
    "# https://www.kaggle.com/datasets/varpit94/amc-stock-data\n",
    "\n",
    "# The High price of the day\n",
    "highPriceAMC = dataAMC.iloc[:, 2]\n",
    "\n",
    "# The low price of the day\n",
    "lowPriceAMC = dataAMC.iloc[:, 3]\n",
    "\n",
    "# The High Price - The Low Price\n",
    "volatilityPriceAMC = highPrice - lowPrice\n",
    "\n",
    "# The Closing price of the day\n",
    "PriceAMC = dataAMC.iloc[:, 4]\n",
    "\n",
    "# The amount of stocks traded during that day\n",
    "VolumesAMC = dataAMC.iloc[:, 6]\n",
    "\n",
    "# The Date of trading (Converted to a Float by getting rid of hyphens)\n",
    "dataAMC['Date'] = dataAMC['Date'].str.replace(\"-\",\"\")\n",
    "dataAMC['Date'] = dataAMC['Date'].astype(float)"
   ]
  },
  {
   "cell_type": "markdown",
   "id": "015d9271",
   "metadata": {},
   "source": [
    "# Normalize Values & Map to Desired Output Range"
   ]
  },
  {
   "cell_type": "code",
   "execution_count": 6,
   "id": "ec47d961",
   "metadata": {},
   "outputs": [],
   "source": [
    "# Normalize Values\n",
    "\n",
    "def scale(x):\n",
    "\n",
    "    ampMin = np.amin(x)\n",
    "    ampMax = np.amax(x)\n",
    "      \n",
    "    scaleFactor = 1 / (ampMax - ampMin) \n",
    "    \n",
    "    # Return the normalized signal.\n",
    "    return (x - ampMin) * (scaleFactor)\n",
    "\n",
    "\n",
    "# Map the Vector to a desired output range.\n",
    "\n",
    "def mapToRange(x, lowP, highP):\n",
    "\n",
    "    pFactors = scale(x)\n",
    "    \n",
    "    return pFactors*(highP - lowP) + lowP"
   ]
  },
  {
   "cell_type": "markdown",
   "id": "dfc3b3ae",
   "metadata": {},
   "source": [
    "# Gamestop Mapping"
   ]
  },
  {
   "cell_type": "code",
   "execution_count": 7,
   "id": "837b6129",
   "metadata": {},
   "outputs": [],
   "source": [
    "# Mapping Pitch to Gamestop Volumes\n",
    "pitches = mapToRange(Volumes, 48, 88)\n",
    "\n",
    "# Mapping Register to Gamestop Volatility\n",
    "register = mapToRange(volatilityPrice, 0, 200);\n",
    "\n",
    "# Mapping Amps to Gamestop Opening Price\n",
    "amps = mapToRange(openPrice, 2, 4)\n",
    "\n",
    "# Mapping Tempo to Gamestop Closing Price\n",
    "tempos = mapToRange(Price, 100, 50)\n",
    "\n",
    "# Mapping DrumTempo to Gamestop trade Volume\n",
    "tempoDrum = mapToRange(Volumes, 500, 50)"
   ]
  },
  {
   "cell_type": "markdown",
   "id": "d17cc523",
   "metadata": {},
   "source": [
    "# AMC Mapping"
   ]
  },
  {
   "cell_type": "code",
   "execution_count": 8,
   "id": "0a48eb48",
   "metadata": {},
   "outputs": [],
   "source": [
    "# Mapping Pitch to AMC Volumes\n",
    "pitchesAMC = mapToRange(VolumesAMC, 40, 80)\n",
    "\n",
    "# Mapping Register to AMC Volatility\n",
    "registerAMC = mapToRange(volatilityPriceAMC, 0, 3)\n",
    "\n",
    "# Mapping Temp to AMC Closing Price\n",
    "temposAMC = mapToRange(PriceAMC, 20, 100)\n",
    "\n",
    "# Mapping DrumTempo to AMC trade Volume\n",
    "tempoDrumAMC = mapToRange(Volumes, 1, 50)"
   ]
  },
  {
   "cell_type": "markdown",
   "id": "5c46cc28",
   "metadata": {},
   "source": [
    "# Format Data into Note List & Write to Text File to be used in Pure Data"
   ]
  },
  {
   "cell_type": "code",
   "execution_count": 9,
   "id": "0c042790",
   "metadata": {},
   "outputs": [],
   "source": [
    "file = open(\"DATA/FormatedData.txt\",\"a\")\n",
    "\n",
    "# clear the previous text file\n",
    "file.truncate(0)\n",
    "\n",
    "# initial note...\n",
    "noteStrng = \"0 pitch \" + str(pitches[0]) + \"; reg \" + str(register[0]) + \"; amp \" + str(amps[0]) + \"; tmpo \" + str(tempos[0]) + \"; tempoDrum \" + str(tempoDrum[0]) + \"; pitchAMC \" + str(pitchesAMC[0]) + \"; regAMC \" + str(registerAMC[0]) + \"; tmpoAMC \" + str(temposAMC[0]) + \"; tempoDrumAMC \" + str(tempoDrumAMC[0]) + \"; \\n\"\n",
    "file.writelines(noteStrng)\n",
    "\n",
    "# the rest of the note list\n",
    "for indx in range(len(VolumesAMC)):\n",
    "  i = indx;\n",
    "  noteStrng = \"250 pitch \" + str(pitches[indx]) + \"; reg \" + str(register[indx]) + \"; amp \" + str(amps[indx]) + \"; tmpo \" + str(tempos[indx]) + \"; tempoDrum \" + str(tempoDrum[indx]) + \"; pitchAMC \" + str(pitchesAMC[indx]) + \"; regAMC \" + str(registerAMC[indx]) + \"; tmpoAMC \" + str(temposAMC[indx]) + \"; tempoDrumAMC \" + str(tempoDrumAMC[indx]) + \"; \\n\"\n",
    "  file.writelines(noteStrng)\n",
    "\n",
    "file.close()"
   ]
  }
 ],
 "metadata": {
  "kernelspec": {
   "display_name": "Python 3 (ipykernel)",
   "language": "python",
   "name": "python3"
  },
  "language_info": {
   "codemirror_mode": {
    "name": "ipython",
    "version": 3
   },
   "file_extension": ".py",
   "mimetype": "text/x-python",
   "name": "python",
   "nbconvert_exporter": "python",
   "pygments_lexer": "ipython3",
   "version": "3.9.7"
  }
 },
 "nbformat": 4,
 "nbformat_minor": 5
}
